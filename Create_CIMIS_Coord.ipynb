{
  "nbformat": 4,
  "nbformat_minor": 0,
  "metadata": {
    "colab": {
      "name": "Create_CIMIS_Coord.ipynb",
      "provenance": [],
      "collapsed_sections": [
        "zjdR1xfLQk9w",
        "fLOhjxzuljpL"
      ],
      "toc_visible": true
    },
    "kernelspec": {
      "name": "python3",
      "display_name": "Python 3"
    }
  },
  "cells": [
    {
      "cell_type": "markdown",
      "metadata": {
        "id": "5MDLuKFuPz3A",
        "colab_type": "text"
      },
      "source": [
        "# Create Dictionary of CIMIS Coordinates"
      ]
    },
    {
      "cell_type": "code",
      "metadata": {
        "id": "1Yvmx8OUQBrG",
        "colab_type": "code",
        "colab": {}
      },
      "source": [
        "import pandas as pd\n",
        "import numpy as np\n",
        "import matplotlib.pyplot as plt\n",
        "import urllib.request\n",
        "import ast\n",
        "import csv\n",
        "print('Done')"
      ],
      "execution_count": null,
      "outputs": []
    },
    {
      "cell_type": "markdown",
      "metadata": {
        "id": "7yjrgu_5RxXR",
        "colab_type": "text"
      },
      "source": [
        "## CIMIS Data Load"
      ]
    },
    {
      "cell_type": "code",
      "metadata": {
        "id": "-PIgg-R3RM8n",
        "colab_type": "code",
        "colab": {}
      },
      "source": [
        "#Data Paths for CIMIS data WY19 All Stations\n",
        "cimis_02_56 = '/content/drive/My Drive/Grad School/Stanford - Q3 2019-2020/CEE 260D/CEE260D Project/Data/CIMIS/CIMIS_Daily_WY19_id02-056.csv'\n",
        "cimis_57_104 = '/content/drive/My Drive/Grad School/Stanford - Q3 2019-2020/CEE 260D/CEE260D Project/Data/CIMIS/CIMIS_Daily_WY19_id57-104.csv'\n",
        "cimis_105_163 = '/content/drive/My Drive/Grad School/Stanford - Q3 2019-2020/CEE 260D/CEE260D Project/Data/CIMIS/CIMIS_Daily_WY19_id105-163.csv'\n",
        "cimis_165_219 = '/content/drive/My Drive/Grad School/Stanford - Q3 2019-2020/CEE 260D/CEE260D Project/Data/CIMIS/CIMIS_Daily_WY19_id165-219.csv'\n",
        "cimis_220_262 = '/content/drive/My Drive/Grad School/Stanford - Q3 2019-2020/CEE 260D/CEE260D Project/Data/CIMIS/CIMIS_Daily_WY19_id220-262.csv'"
      ],
      "execution_count": null,
      "outputs": []
    },
    {
      "cell_type": "code",
      "metadata": {
        "id": "JhYaLaLjSytf",
        "colab_type": "code",
        "colab": {}
      },
      "source": [
        "cimis_1 = pd.read_csv(cimis_02_56)\n",
        "cimis_2 = pd.read_csv(cimis_57_104)\n",
        "cimis_3 = pd.read_csv(cimis_105_163)\n",
        "cimis_4 = pd.read_csv(cimis_165_219)\n",
        "cimis_5 = pd.read_csv(cimis_220_262)"
      ],
      "execution_count": null,
      "outputs": []
    },
    {
      "cell_type": "markdown",
      "metadata": {
        "id": "BzRhazYF2ayG",
        "colab_type": "text"
      },
      "source": [
        "## CIMIS API for Coordinates"
      ]
    },
    {
      "cell_type": "code",
      "metadata": {
        "id": "mUwwNpP2S6Uy",
        "colab_type": "code",
        "colab": {}
      },
      "source": [
        "#CIMIS WEB API https://et.water.ca.gov/Rest/Index\n",
        "cimis_api = 'https://et.water.ca.gov/api/station/'\n",
        "api_key = '273cd116-fc49-462c-9104-ea513ccd1192'"
      ],
      "execution_count": null,
      "outputs": []
    },
    {
      "cell_type": "code",
      "metadata": {
        "id": "8IQVmVhExkY7",
        "colab_type": "code",
        "colab": {}
      },
      "source": [
        "#Function for getting coordinates\n",
        "def get_coordinates(df, dictionary):\n",
        "  length = df.shape[0]\n",
        "\n",
        "  for i in range(length):\n",
        "    stn_name = df.iloc[i]['Stn Name']\n",
        "    stn_nbr = df.iloc[i]['Stn Id']\n",
        "    \n",
        "    #add station to dictionary\n",
        "    if stn_name not in dictionary:\n",
        "\n",
        "      #find coordinates with api\n",
        "      r = urllib.request.urlopen(cimis_api + str(stn_nbr))\n",
        "      r = r.read()\n",
        "      dict_str = r.decode('UTF-8')\n",
        "      my_data = ast.literal_eval(dict_str)\n",
        "      lat_str = my_data['Stations'][0]['HmsLatitude']\n",
        "      lon_str = my_data['Stations'][0]['HmsLongitude']\n",
        "\n",
        "      #convert lat/lon strings to int\n",
        "      #lat\n",
        "      slash1 = lat_str.find('/')\n",
        "      lat_int = float(lat_str[slash1+1:])\n",
        "      #lon\n",
        "      slash2 = lon_str.find('/')\n",
        "      lon_int = float(lon_str[slash2+1:])\n",
        "\n",
        "      #add in values\n",
        "      dictionary[stn_name] = [lat_int, lon_int]"
      ],
      "execution_count": null,
      "outputs": []
    },
    {
      "cell_type": "code",
      "metadata": {
        "id": "QjzMrfD9yAuX",
        "colab_type": "code",
        "colab": {}
      },
      "source": [
        "#create latitude and longitude dictionary\n",
        "latlon_dict = {}"
      ],
      "execution_count": null,
      "outputs": []
    },
    {
      "cell_type": "code",
      "metadata": {
        "id": "34xi6cOHyo6y",
        "colab_type": "code",
        "colab": {}
      },
      "source": [
        "get_coordinates(cimis_1, latlon_dict)\n",
        "get_coordinates(cimis_2, latlon_dict)\n",
        "get_coordinates(cimis_3, latlon_dict)\n",
        "get_coordinates(cimis_4, latlon_dict)\n",
        "get_coordinates(cimis_5, latlon_dict)"
      ],
      "execution_count": null,
      "outputs": []
    },
    {
      "cell_type": "code",
      "metadata": {
        "id": "R3068NoFzONH",
        "colab_type": "code",
        "colab": {}
      },
      "source": [
        "latlon_dict"
      ],
      "execution_count": null,
      "outputs": []
    },
    {
      "cell_type": "code",
      "metadata": {
        "id": "wrducReln1c3",
        "colab_type": "code",
        "colab": {}
      },
      "source": [
        "a_file = open('latlon_dict.csv', 'w')\n",
        "\n",
        "writer = csv.writer(a_file)\n",
        "for key, value in latlon_dict.items():\n",
        "  writer.writerow([key, value])\n",
        "\n",
        "a_file.close()"
      ],
      "execution_count": null,
      "outputs": []
    },
    {
      "cell_type": "code",
      "metadata": {
        "id": "k6OoHzJ4oijv",
        "colab_type": "code",
        "colab": {}
      },
      "source": [
        "#Uncomment these cells to download dictionary csv file\n",
        "\n",
        "#from google.colab import files\n",
        "#files.download('latlon_dict.csv')"
      ],
      "execution_count": null,
      "outputs": []
    },
    {
      "cell_type": "markdown",
      "metadata": {
        "id": "Natsdm990nOK",
        "colab_type": "text"
      },
      "source": [
        "## Cimis FivePoints TimeSeries Example"
      ]
    },
    {
      "cell_type": "code",
      "metadata": {
        "id": "aByJu8Y7sxLE",
        "colab_type": "code",
        "colab": {}
      },
      "source": [
        "fivepoints = cimis_1.loc[cimis_1['Stn Name'] == 'FivePoints']\n",
        "fivepoints.columns"
      ],
      "execution_count": null,
      "outputs": []
    },
    {
      "cell_type": "code",
      "metadata": {
        "id": "OjWKgxQ8wurN",
        "colab_type": "code",
        "colab": {}
      },
      "source": [
        "x = fivepoints['Date']\n",
        "y = fivepoints['ETo (mm)']\n",
        "\n",
        "plt.figure(figsize=(10,10))\n",
        "plt.plot(x,y)\n",
        "plt.xlabel('Days')\n",
        "plt.ylabel('ETo (mm)')\n",
        "plt.title('FivePoints')"
      ],
      "execution_count": null,
      "outputs": []
    }
  ]
}